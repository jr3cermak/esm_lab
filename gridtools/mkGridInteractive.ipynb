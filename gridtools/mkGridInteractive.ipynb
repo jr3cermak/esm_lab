{
 "cells": [
  {
   "cell_type": "code",
   "execution_count": 8,
   "metadata": {},
   "outputs": [],
   "source": [
    "# conda: holo37 xesmfTools\n",
    "\n",
    "# This should be the minimalist\n",
    "# notebook script to launch the\n",
    "# interactive grid toolset.\n",
    "\n",
    "# The application boilerplate can be\n",
    "# edited via lib/app.py.  You need to save\n",
    "# any changes and re-run all the cells for\n",
    "# changes to be applied.\n",
    "\n",
    "# Required to manipulate sys.path and access environment\n",
    "# variables via os.environ.\n",
    "import os, sys\n",
    "\n",
    "useDisplay = False\n",
    "if (os.environ.get('LIBROOT')):\n",
    "    sys.path.append(os.environ.get('LIBROOT'))\n",
    "else:\n",
    "    # Detect use of this notebook in mybinder.org\n",
    "    # useDisplay if mybinder.org is detected\n",
    "    cDir = os.getcwd()\n",
    "    if cDir == '/home/jovyan/gridTools':\n",
    "        sys.path.append('/home/jovyan/gridTools/lib')\n",
    "        useDisplay = True\n",
    "        \n",
    "# Set your username if you need to use display() instead of show()\n",
    "if os.environ.get('USER') == 'cermak':\n",
    "    useDisplay = True\n",
    "\n",
    "from gridutils import GridUtils\n",
    "import warnings"
   ]
  },
  {
   "cell_type": "code",
   "execution_count": 9,
   "metadata": {},
   "outputs": [],
   "source": [
    "# Disable annoying warnings from python\n",
    "warnings.filterwarnings('ignore')"
   ]
  },
  {
   "cell_type": "code",
   "execution_count": 10,
   "metadata": {},
   "outputs": [],
   "source": [
    "# If we are successful, we can initialize the grid toolset\n",
    "grd = GridUtils()"
   ]
  },
  {
   "cell_type": "code",
   "execution_count": 11,
   "metadata": {},
   "outputs": [],
   "source": [
    "# Initialize the application\n",
    "dashboard = grd.app()"
   ]
  },
  {
   "cell_type": "code",
   "execution_count": 12,
   "metadata": {},
   "outputs": [],
   "source": [
    "# Launch the application"
   ]
  },
  {
   "cell_type": "code",
   "execution_count": 13,
   "metadata": {},
   "outputs": [
    {
     "name": "stdout",
     "output_type": "stream",
     "text": [
      "Launching server at http://localhost:63264\n"
     ]
    }
   ],
   "source": [
    "if not(useDisplay):\n",
    "    dashboard.show()"
   ]
  },
  {
   "cell_type": "code",
   "execution_count": 7,
   "metadata": {},
   "outputs": [],
   "source": [
    "if useDisplay:\n",
    "    dashboard.servable();"
   ]
  },
  {
   "cell_type": "code",
   "execution_count": null,
   "metadata": {},
   "outputs": [],
   "source": [
    "if useDisplay:\n",
    "    # Need to expand width of cells in Binder\n",
    "    from IPython.core.display import HTML\n",
    "    display(HTML(\"<style>.container { width:100% !important; }</style>\"))"
   ]
  },
  {
   "cell_type": "code",
   "execution_count": null,
   "metadata": {},
   "outputs": [],
   "source": [
    "if useDisplay:\n",
    "    display(dashboard)"
   ]
  },
  {
   "cell_type": "code",
   "execution_count": null,
   "metadata": {},
   "outputs": [],
   "source": []
  }
 ],
 "metadata": {
  "kernelspec": {
   "display_name": "Python 3",
   "language": "python",
   "name": "python3"
  },
  "language_info": {
   "codemirror_mode": {
    "name": "ipython",
    "version": 3
   },
   "file_extension": ".py",
   "mimetype": "text/x-python",
   "name": "python",
   "nbconvert_exporter": "python",
   "pygments_lexer": "ipython3",
   "version": "3.7.7"
  }
 },
 "nbformat": 4,
 "nbformat_minor": 5
}
